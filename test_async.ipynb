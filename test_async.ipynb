{
 "cells": [
  {
   "cell_type": "code",
   "execution_count": 104,
   "id": "df86f652-0472-49ea-a41e-2456100454fc",
   "metadata": {},
   "outputs": [],
   "source": [
    "# Adapted from:\n",
    "# https://stackoverflow.com/questions/492519/timeout-on-a-function-call\n",
    "import threading\n",
    "import _thread as thread\n",
    "import sys\n",
    "\n",
    "import time\n",
    "\n",
    "from datetime import datetime as dt\n",
    "\n",
    "from importlib import reload\n",
    "import src.student\n",
    "reload(src.student)\n",
    "\n",
    "from src.student import StudentFunction"
   ]
  },
  {
   "cell_type": "code",
   "execution_count": 105,
   "id": "c9a17b79-8f1e-449e-81eb-e2ba56c568c4",
   "metadata": {},
   "outputs": [],
   "source": [
    "def inf_loop():\n",
    "    x = 1\n",
    "    while True:\n",
    "        x+=1\n",
    "    return f'hello {x}'\n",
    "\n",
    "def inf_loop_handle():\n",
    "    x = 1\n",
    "    try:\n",
    "        while True:\n",
    "            x+=1\n",
    "    except:\n",
    "        print('it caught something')\n",
    "    return f'hello {x}'\n",
    "\n",
    "def it_sleeps():\n",
    "    time.sleep(5)\n",
    "    return 'I slept'\n",
    "\n",
    "def fun_with(a,b,c):\n",
    "    return a - b + c"
   ]
  },
  {
   "cell_type": "code",
   "execution_count": 106,
   "id": "dfaad83a-eeb8-4f7a-af34-3d6d0e896ce1",
   "metadata": {},
   "outputs": [],
   "source": [
    "sf = StudentFunction(it_sleeps, \n",
    "                     timeout_secs=1\n",
    "                    )"
   ]
  },
  {
   "cell_type": "code",
   "execution_count": 107,
   "id": "3eafb62a-c404-4b46-ab15-1f4601ec7d30",
   "metadata": {},
   "outputs": [
    {
     "name": "stdout",
     "output_type": "stream",
     "text": [
      "Interrupt sent when it_sleeps ran more than 1 secs.\n"
     ]
    }
   ],
   "source": [
    "sf.run_fun()"
   ]
  },
  {
   "cell_type": "code",
   "execution_count": 108,
   "id": "c5c779af-62e7-4fca-9c59-74fd6cd8d737",
   "metadata": {},
   "outputs": [
    {
     "data": {
      "text/plain": [
       "'Error: Timed out after 1 secs.'"
      ]
     },
     "execution_count": 108,
     "metadata": {},
     "output_type": "execute_result"
    }
   ],
   "source": [
    "sf.result"
   ]
  },
  {
   "cell_type": "code",
   "execution_count": 109,
   "id": "12834914-f49a-493c-94c4-a283feaffc1b",
   "metadata": {},
   "outputs": [
    {
     "data": {
      "text/plain": [
       "(datetime.datetime(2025, 2, 2, 17, 14, 51, 642899),\n",
       " datetime.datetime(2025, 2, 2, 17, 14, 56, 647196),\n",
       " datetime.timedelta(seconds=5, microseconds=4297))"
      ]
     },
     "execution_count": 109,
     "metadata": {},
     "output_type": "execute_result"
    }
   ],
   "source": [
    "sf.start_time, sf.stop_time, sf.runtime"
   ]
  },
  {
   "cell_type": "code",
   "execution_count": 110,
   "id": "686758ae-6333-4082-9fe7-143b0c85fe4d",
   "metadata": {},
   "outputs": [
    {
     "data": {
      "text/plain": [
       "nan"
      ]
     },
     "execution_count": 110,
     "metadata": {},
     "output_type": "execute_result"
    }
   ],
   "source": [
    "sf.clean_exit"
   ]
  },
  {
   "cell_type": "code",
   "execution_count": 111,
   "id": "734164c8-6159-40ec-9333-2f7dd99260e4",
   "metadata": {},
   "outputs": [
    {
     "data": {
      "text/plain": [
       "True"
      ]
     },
     "execution_count": 111,
     "metadata": {},
     "output_type": "execute_result"
    }
   ],
   "source": [
    "sf.interrupted"
   ]
  },
  {
   "cell_type": "code",
   "execution_count": 112,
   "id": "d5c9b50a-8d78-43e0-a78a-442825162e77",
   "metadata": {},
   "outputs": [
    {
     "data": {
      "text/plain": [
       "True"
      ]
     },
     "execution_count": 112,
     "metadata": {},
     "output_type": "execute_result"
    }
   ],
   "source": [
    "x = ['a', 'b']\n",
    "s = 'a'\n",
    "s in x"
   ]
  },
  {
   "cell_type": "code",
   "execution_count": null,
   "id": "b5cb4b98-ff66-4421-b5d4-7101e011ec19",
   "metadata": {},
   "outputs": [],
   "source": []
  },
  {
   "cell_type": "code",
   "execution_count": null,
   "id": "dfaad965-f195-4be5-9ded-68aec85ac976",
   "metadata": {},
   "outputs": [],
   "source": []
  },
  {
   "cell_type": "code",
   "execution_count": null,
   "id": "04883b95-1166-42dc-b950-558f3985298f",
   "metadata": {},
   "outputs": [],
   "source": []
  },
  {
   "cell_type": "code",
   "execution_count": null,
   "id": "b8722379-2a29-4467-9ac0-bb317b93c9ab",
   "metadata": {},
   "outputs": [],
   "source": []
  },
  {
   "cell_type": "code",
   "execution_count": null,
   "id": "7cb116f7-5f6d-4aa4-8bb3-82e0b29173de",
   "metadata": {},
   "outputs": [],
   "source": []
  },
  {
   "cell_type": "code",
   "execution_count": null,
   "id": "798aafef-d6f5-4dac-8f5e-07fa7558ad8b",
   "metadata": {},
   "outputs": [],
   "source": []
  },
  {
   "cell_type": "code",
   "execution_count": null,
   "id": "713e1151-8329-47c6-9162-23e1d2383298",
   "metadata": {},
   "outputs": [],
   "source": []
  },
  {
   "cell_type": "code",
   "execution_count": null,
   "id": "9e9027f1-236d-4221-ab48-4def56d94727",
   "metadata": {},
   "outputs": [],
   "source": []
  },
  {
   "cell_type": "code",
   "execution_count": null,
   "id": "59b87ade-3bdf-4c8e-9054-339c3316e6c4",
   "metadata": {},
   "outputs": [],
   "source": []
  },
  {
   "cell_type": "code",
   "execution_count": null,
   "id": "d08a3424-2953-4b3c-b383-36439125b956",
   "metadata": {},
   "outputs": [],
   "source": []
  },
  {
   "cell_type": "code",
   "execution_count": null,
   "id": "809d5872-85ea-4489-b525-64759932e346",
   "metadata": {},
   "outputs": [],
   "source": []
  },
  {
   "cell_type": "code",
   "execution_count": null,
   "id": "880b7208-15b5-4eff-8b80-43ec40fbe69f",
   "metadata": {},
   "outputs": [],
   "source": []
  },
  {
   "cell_type": "code",
   "execution_count": 88,
   "id": "3e6b5685-041e-4faa-934f-817390166da6",
   "metadata": {},
   "outputs": [],
   "source": [
    "def quit_function(fn_name):\n",
    "    # print to stderr, unbuffered in Python 2.\n",
    "    \n",
    "    print('{0} took too long'.format(fn_name), file=sys.stderr)\n",
    "    sys.stderr.flush() # Python 3 stderr is likely buffered.\n",
    "    thread.interrupt_main() # raises KeyboardInterrupt\n",
    "    return\n",
    "\n",
    "def exit_after(s):\n",
    "    '''\n",
    "    use as decorator to exit process if \n",
    "    function takes longer than s seconds\n",
    "    '''\n",
    "    def outer(fn):\n",
    "        def inner(*args, **kwargs):\n",
    "            timer = threading.Timer(s, quit_function, args=[fn.__name__])\n",
    "            #timer = threading.Timer(s, thread.interrupt_main)#, args=[fn.__name__])\n",
    "            timer.start()\n",
    "            try:\n",
    "                result = fn(*args, **kwargs)\n",
    "            except KeyboardInterrupt as e:\n",
    "                result = 'Timed Out'\n",
    "            except Exception as e:\n",
    "                result = e\n",
    "            finally:\n",
    "                timer.cancel()\n",
    "            return result\n",
    "        return inner\n",
    "    return outer"
   ]
  },
  {
   "cell_type": "code",
   "execution_count": 89,
   "id": "fe9eaf59-59f0-473c-8993-ca05c8ea8a12",
   "metadata": {},
   "outputs": [],
   "source": [
    "@exit_after(1)\n",
    "def it_sleeps():\n",
    "    time.sleep(3)\n",
    "    return 'I slept'\n",
    "\n",
    "@exit_after(1)\n",
    "def inf_loop():\n",
    "    x = 1\n",
    "    while True:\n",
    "        x+=1\n",
    "    return f'hello {x}'\n",
    "\n",
    "# Internal error handling breaks it...\n",
    "# but we can probably solve with some logging\n",
    "@exit_after(1)\n",
    "def inf_loop_handle():\n",
    "    x = 1\n",
    "    try:\n",
    "        while True:\n",
    "            x+=1\n",
    "    except:\n",
    "        print('it caught something')\n",
    "    return f'hello {x}'"
   ]
  },
  {
   "cell_type": "code",
   "execution_count": 90,
   "id": "f86b5d17-5e4f-40a3-b8a9-83f426915f26",
   "metadata": {},
   "outputs": [
    {
     "name": "stderr",
     "output_type": "stream",
     "text": [
      "it_sleeps took too long\n",
      "inf_loop took too long\n",
      "inf_loop_handle took too long\n"
     ]
    },
    {
     "name": "stdout",
     "output_type": "stream",
     "text": [
      "it caught something\n"
     ]
    }
   ],
   "source": [
    "funcs = [it_sleeps, inf_loop, inf_loop_handle]\n",
    "results = []\n",
    "for fun in funcs:\n",
    "    try:\n",
    "        results.append(fun())\n",
    "    except KeyboardInterrupt as e:\n",
    "        print('caught out here')\n",
    "        print(type(e))"
   ]
  },
  {
   "cell_type": "code",
   "execution_count": 91,
   "id": "3a2b1f68-6615-425a-931f-4984b3681ffd",
   "metadata": {},
   "outputs": [
    {
     "data": {
      "text/plain": [
       "['Timed Out', 'Timed Out', 'hello 32931409']"
      ]
     },
     "execution_count": 91,
     "metadata": {},
     "output_type": "execute_result"
    }
   ],
   "source": [
    "results"
   ]
  },
  {
   "cell_type": "code",
   "execution_count": 102,
   "id": "f5e9e587-0c7c-4d2b-bfa3-2a1f8be7cbb1",
   "metadata": {},
   "outputs": [],
   "source": [
    "def fun(*args, x = None, **kwargs):\n",
    "    print(args)\n",
    "    print(x)\n",
    "    print(kwargs)\n",
    "    return"
   ]
  },
  {
   "cell_type": "code",
   "execution_count": 104,
   "id": "418abbf3-2cb2-48ab-ac2e-734830c4f637",
   "metadata": {},
   "outputs": [
    {
     "name": "stdout",
     "output_type": "stream",
     "text": [
      "(1, 2, 3)\n",
      "None\n",
      "{'cat': 10}\n"
     ]
    }
   ],
   "source": [
    "fun(1,2,3,cat=10)"
   ]
  },
  {
   "cell_type": "code",
   "execution_count": null,
   "id": "035ad089-3215-4300-91e6-02809c60a7a2",
   "metadata": {},
   "outputs": [],
   "source": []
  }
 ],
 "metadata": {
  "kernelspec": {
   "display_name": "Python 3 (ipykernel)",
   "language": "python",
   "name": "python3"
  },
  "language_info": {
   "codemirror_mode": {
    "name": "ipython",
    "version": 3
   },
   "file_extension": ".py",
   "mimetype": "text/x-python",
   "name": "python",
   "nbconvert_exporter": "python",
   "pygments_lexer": "ipython3",
   "version": "3.13.1"
  }
 },
 "nbformat": 4,
 "nbformat_minor": 5
}
