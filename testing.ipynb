{
 "cells": [
  {
   "cell_type": "code",
   "execution_count": null,
   "id": "602d454b-936a-4a02-9416-37285e0b6155",
   "metadata": {},
   "outputs": [],
   "source": [
    "# ToDo:\n",
    "#  - test invalid imports\n",
    "#  - uv on jupyterhub? isolated environment? use our .venv?"
   ]
  },
  {
   "cell_type": "code",
   "execution_count": 13,
   "id": "8b9d4e2f-85a5-459a-99a4-294b8082c724",
   "metadata": {},
   "outputs": [],
   "source": [
    "import user_code\n",
    "import key\n",
    "\n",
    "import pandas as pd\n",
    "import inspect\n",
    "\n",
    "KEY_FUNC = 'func'\n",
    "KEY_RETURN = 'return'"
   ]
  },
  {
   "cell_type": "code",
   "execution_count": 5,
   "id": "6fb0f528-ce9f-4841-9ef1-8dc80dd77872",
   "metadata": {},
   "outputs": [],
   "source": [
    "args = {\n",
    "    'q1': (3,),\n",
    "    'q2': (4,5),\n",
    "    'q3': ()\n",
    "}"
   ]
  },
  {
   "cell_type": "code",
   "execution_count": 6,
   "id": "1d51eb6e-55c8-4a93-99c4-4e4df74f5be5",
   "metadata": {},
   "outputs": [],
   "source": [
    "# Create the key\n",
    "pkey = {}\n",
    "for name, obj in inspect.getmembers(key):\n",
    "    if inspect.isfunction(obj) and name.startswith('q'):\n",
    "        pkey[name] = {}\n",
    "        pkey[name][KEY_FUNC] = obj\n",
    "        pkey[name][KEY_RETURN] = obj(*args[name])"
   ]
  },
  {
   "cell_type": "code",
   "execution_count": 9,
   "id": "dbbd4efb-e2ba-4b89-84ca-6f716be202ce",
   "metadata": {},
   "outputs": [],
   "source": [
    "# Get the individual users\n",
    "users = {}\n",
    "for name, obj in inspect.getmembers(user_code):\n",
    "    if inspect.ismodule(obj) and not name.startswith('_'):\n",
    "        users[name] = obj"
   ]
  },
  {
   "cell_type": "code",
   "execution_count": 16,
   "id": "c5ec762b-af2b-459a-b297-abc80e8fd054",
   "metadata": {},
   "outputs": [],
   "source": [
    "grades = pd.DataFrame(index=list(users.keys()), columns=list(pkey.keys()))\n",
    "# Compare user code to the key\n",
    "\n",
    "\n"
   ]
  },
  {
   "cell_type": "code",
   "execution_count": 18,
   "id": "da1aba78-885c-4ef0-bd76-60cc56eea808",
   "metadata": {},
   "outputs": [],
   "source": [
    "# Each user will get their own output sheet \n",
    "# with question numbers on the rows and on the columns:\n",
    "#   function input(s), your output, expected output\n",
    "def user_output(q_nums: list[str]) -> pd.DataFrame:\n",
    "    columns = ['Arguments', 'Output', 'Expected']\n",
    "    return pd.DataFrame(index=q_nums, columns=columns)"
   ]
  },
  {
   "cell_type": "code",
   "execution_count": 10,
   "id": "8b480484-1435-4f67-8bf5-65ace1d5d78c",
   "metadata": {},
   "outputs": [
    {
     "data": {
      "text/plain": [
       "['user1', 'user2', 'user3']"
      ]
     },
     "execution_count": 10,
     "metadata": {},
     "output_type": "execute_result"
    }
   ],
   "source": [
    "list(users.keys())"
   ]
  },
  {
   "cell_type": "code",
   "execution_count": 17,
   "id": "48d1abd7-7600-4772-ae7b-c4a93a40c939",
   "metadata": {},
   "outputs": [
    {
     "data": {
      "text/html": [
       "<div>\n",
       "<style scoped>\n",
       "    .dataframe tbody tr th:only-of-type {\n",
       "        vertical-align: middle;\n",
       "    }\n",
       "\n",
       "    .dataframe tbody tr th {\n",
       "        vertical-align: top;\n",
       "    }\n",
       "\n",
       "    .dataframe thead th {\n",
       "        text-align: right;\n",
       "    }\n",
       "</style>\n",
       "<table border=\"1\" class=\"dataframe\">\n",
       "  <thead>\n",
       "    <tr style=\"text-align: right;\">\n",
       "      <th></th>\n",
       "      <th>q1</th>\n",
       "      <th>q2</th>\n",
       "      <th>q3</th>\n",
       "    </tr>\n",
       "  </thead>\n",
       "  <tbody>\n",
       "    <tr>\n",
       "      <th>user1</th>\n",
       "      <td>NaN</td>\n",
       "      <td>NaN</td>\n",
       "      <td>NaN</td>\n",
       "    </tr>\n",
       "    <tr>\n",
       "      <th>user2</th>\n",
       "      <td>NaN</td>\n",
       "      <td>NaN</td>\n",
       "      <td>NaN</td>\n",
       "    </tr>\n",
       "    <tr>\n",
       "      <th>user3</th>\n",
       "      <td>NaN</td>\n",
       "      <td>NaN</td>\n",
       "      <td>NaN</td>\n",
       "    </tr>\n",
       "  </tbody>\n",
       "</table>\n",
       "</div>"
      ],
      "text/plain": [
       "        q1   q2   q3\n",
       "user1  NaN  NaN  NaN\n",
       "user2  NaN  NaN  NaN\n",
       "user3  NaN  NaN  NaN"
      ]
     },
     "execution_count": 17,
     "metadata": {},
     "output_type": "execute_result"
    }
   ],
   "source": [
    "grades"
   ]
  },
  {
   "cell_type": "code",
   "execution_count": null,
   "id": "07a326cf-a389-4dd2-870c-9feb7c494fdb",
   "metadata": {},
   "outputs": [],
   "source": []
  },
  {
   "cell_type": "code",
   "execution_count": null,
   "id": "a3cfee69-83cf-4207-a561-fa1266a7831a",
   "metadata": {},
   "outputs": [],
   "source": []
  },
  {
   "cell_type": "code",
   "execution_count": null,
   "id": "8fc7bbb8-148d-4a05-8923-091fb7722c3f",
   "metadata": {},
   "outputs": [],
   "source": []
  },
  {
   "cell_type": "code",
   "execution_count": null,
   "id": "a351ceec-833e-4c99-a160-f099b3e28f6c",
   "metadata": {},
   "outputs": [],
   "source": []
  },
  {
   "cell_type": "code",
   "execution_count": null,
   "id": "379d18e8-3a54-404f-b3ec-b87084a8eb02",
   "metadata": {},
   "outputs": [],
   "source": []
  },
  {
   "cell_type": "code",
   "execution_count": 49,
   "id": "85a7048b-19d8-417a-a456-10ead96d5541",
   "metadata": {},
   "outputs": [
    {
     "data": {
      "text/plain": [
       "['user1', 'user2', 'user3']"
      ]
     },
     "execution_count": 49,
     "metadata": {},
     "output_type": "execute_result"
    }
   ],
   "source": [
    "users = [item for item in dir(user_code) if not item.startswith('_')]\n",
    "users"
   ]
  },
  {
   "cell_type": "code",
   "execution_count": 50,
   "id": "ebb38c34-fe06-478c-8b36-334f9c5d2115",
   "metadata": {},
   "outputs": [
    {
     "data": {
      "text/plain": [
       "['q1', 'q2']"
      ]
     },
     "execution_count": 50,
     "metadata": {},
     "output_type": "execute_result"
    }
   ],
   "source": [
    "questions = [item for item in dir(key) if item.startswith('q')]\n",
    "questions"
   ]
  },
  {
   "cell_type": "code",
   "execution_count": null,
   "id": "b9af8e5b-a03a-49be-aec1-88768c70ab2b",
   "metadata": {},
   "outputs": [],
   "source": []
  },
  {
   "cell_type": "code",
   "execution_count": null,
   "id": "6e87bd32-c559-453a-af82-023c23453a99",
   "metadata": {},
   "outputs": [],
   "source": []
  },
  {
   "cell_type": "code",
   "execution_count": 39,
   "id": "c5224198-3426-47e7-8707-edb000a2c430",
   "metadata": {},
   "outputs": [],
   "source": []
  },
  {
   "cell_type": "code",
   "execution_count": null,
   "id": "5c5dc3a4-141b-43c3-a39d-262d25a98307",
   "metadata": {},
   "outputs": [],
   "source": []
  },
  {
   "cell_type": "code",
   "execution_count": 46,
   "id": "0f4561a7-1558-4524-8f9b-3d90e44f845b",
   "metadata": {},
   "outputs": [],
   "source": []
  },
  {
   "cell_type": "code",
   "execution_count": 47,
   "id": "b0880387-ceab-465d-9ab2-909467c318dd",
   "metadata": {},
   "outputs": [
    {
     "name": "stdout",
     "output_type": "stream",
     "text": [
      "q1 <function q1 at 0x0000021DFA6F1D00>\n",
      "q2 <function q2 at 0x0000021DFA6F2020>\n"
     ]
    }
   ],
   "source": [
    "for key, value in pkey.items():\n",
    "    print(key, value)"
   ]
  },
  {
   "cell_type": "code",
   "execution_count": null,
   "id": "de42a231-526d-4d6c-b927-4ea5e3d974eb",
   "metadata": {},
   "outputs": [],
   "source": []
  },
  {
   "cell_type": "code",
   "execution_count": null,
   "id": "73d53c9b-ddfa-4363-9df3-697f8cb9f9ad",
   "metadata": {},
   "outputs": [],
   "source": []
  },
  {
   "cell_type": "code",
   "execution_count": null,
   "id": "f787505a-b03e-4032-9e09-a3c74d3cd7a8",
   "metadata": {},
   "outputs": [],
   "source": []
  },
  {
   "cell_type": "code",
   "execution_count": null,
   "id": "93b385bf-edaf-4a8b-81fb-c11ccc11ac5a",
   "metadata": {},
   "outputs": [],
   "source": []
  },
  {
   "cell_type": "code",
   "execution_count": null,
   "id": "1b4b99b9-b50e-47e5-9d03-3a8cfb7f058c",
   "metadata": {},
   "outputs": [],
   "source": []
  },
  {
   "cell_type": "markdown",
   "id": "59ebc6be-c5fa-4c4e-b4a2-0e3edc46bbeb",
   "metadata": {},
   "source": [
    "---"
   ]
  },
  {
   "cell_type": "code",
   "execution_count": 14,
   "id": "c6e69442-0209-4dfb-90a7-e4f44c76984f",
   "metadata": {},
   "outputs": [],
   "source": [
    "import ast\n",
    "with open('key.py', 'r') as f:\n",
    "    node = ast.parse(f.read())\n",
    "\n",
    "fun = node.body[1]"
   ]
  },
  {
   "cell_type": "code",
   "execution_count": 15,
   "id": "92318bbc-42db-4410-9f7e-12f21e1dd277",
   "metadata": {},
   "outputs": [
    {
     "data": {
      "text/plain": [
       "['__annotations__',\n",
       " '__class__',\n",
       " '__delattr__',\n",
       " '__dict__',\n",
       " '__dir__',\n",
       " '__doc__',\n",
       " '__eq__',\n",
       " '__format__',\n",
       " '__ge__',\n",
       " '__getattribute__',\n",
       " '__getstate__',\n",
       " '__gt__',\n",
       " '__hash__',\n",
       " '__init__',\n",
       " '__init_subclass__',\n",
       " '__le__',\n",
       " '__lt__',\n",
       " '__match_args__',\n",
       " '__module__',\n",
       " '__ne__',\n",
       " '__new__',\n",
       " '__reduce__',\n",
       " '__reduce_ex__',\n",
       " '__repr__',\n",
       " '__setattr__',\n",
       " '__sizeof__',\n",
       " '__str__',\n",
       " '__subclasshook__',\n",
       " '__weakref__',\n",
       " '_attributes',\n",
       " '_field_types',\n",
       " '_fields',\n",
       " 'args',\n",
       " 'body',\n",
       " 'col_offset',\n",
       " 'decorator_list',\n",
       " 'end_col_offset',\n",
       " 'end_lineno',\n",
       " 'lineno',\n",
       " 'name',\n",
       " 'returns',\n",
       " 'type_comment',\n",
       " 'type_params']"
      ]
     },
     "execution_count": 15,
     "metadata": {},
     "output_type": "execute_result"
    }
   ],
   "source": [
    "dir(fun)"
   ]
  },
  {
   "cell_type": "code",
   "execution_count": null,
   "id": "ec029e43-4de1-4c95-aeae-d039834b0ba0",
   "metadata": {},
   "outputs": [],
   "source": []
  },
  {
   "cell_type": "code",
   "execution_count": null,
   "id": "92dc7ea8-e9cd-4265-a724-b617386b6f0a",
   "metadata": {},
   "outputs": [],
   "source": []
  }
 ],
 "metadata": {
  "kernelspec": {
   "display_name": "Python 3 (ipykernel)",
   "language": "python",
   "name": "python3"
  },
  "language_info": {
   "codemirror_mode": {
    "name": "ipython",
    "version": 3
   },
   "file_extension": ".py",
   "mimetype": "text/x-python",
   "name": "python",
   "nbconvert_exporter": "python",
   "pygments_lexer": "ipython3",
   "version": "3.13.0"
  }
 },
 "nbformat": 4,
 "nbformat_minor": 5
}
