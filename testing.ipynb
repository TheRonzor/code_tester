{
 "cells": [
  {
   "cell_type": "code",
   "execution_count": 1,
   "id": "602d454b-936a-4a02-9416-37285e0b6155",
   "metadata": {},
   "outputs": [],
   "source": [
    "# ToDo:\n",
    "#  - test invalid imports\n",
    "#  - uv on jupyterhub? isolated environment? use our .venv?\n",
    "#  - timeouts: https://stackoverflow.com/questions/2281850/timeout-function-if-it-takes-too-long-to-finish\n",
    "    # https://stackoverflow.com/questions/45426713/how-to-gracefully-timeout-with-asyncio\n",
    "#      - also consider sandboxing it\n",
    "#      - flag execs?\n",
    "#  - kernel crashes; keep a log\n",
    "#  - sort users alphabetically (done by inspect.getmembers)\n",
    "#  - convert to classes\n",
    "#  - utility for students to check before submitting?\n",
    "#  - decorate functions with generic error handler to capture and report exceptions"
   ]
  },
  {
   "cell_type": "code",
   "execution_count": 2,
   "id": "8b9d4e2f-85a5-459a-99a4-294b8082c724",
   "metadata": {},
   "outputs": [],
   "source": [
    "import student_code\n",
    "import key\n",
    "\n",
    "# Don't forget to add everything to the venv\n",
    "from types import ModuleType\n",
    "from typing import Callable\n",
    "\n",
    "import concurrent.futures\n",
    "import threading\n",
    "\n",
    "from traceback import format_exception\n",
    "\n",
    "import pandas as pd\n",
    "import inspect\n",
    "\n",
    "KEY_FUNC = 'func'\n",
    "KEY_RETURN = 'return'\n",
    "KEY_QUESTION = 'q'\n",
    "KEY_SKIP = '_'"
   ]
  },
  {
   "cell_type": "code",
   "execution_count": 3,
   "id": "6fb0f528-ce9f-4841-9ef1-8dc80dd77872",
   "metadata": {},
   "outputs": [],
   "source": [
    "args = {\n",
    "    'q1': (3,),\n",
    "    'q2': (4,5),\n",
    "    'q3': ()\n",
    "}"
   ]
  },
  {
   "cell_type": "code",
   "execution_count": 4,
   "id": "1d51eb6e-55c8-4a93-99c4-4e4df74f5be5",
   "metadata": {},
   "outputs": [],
   "source": [
    "# Create the key\n",
    "pkey = {}\n",
    "for name, obj in inspect.getmembers(key, predicate=inspect.isfunction):\n",
    "    #if inspect.isfunction(obj) and name.startswith('q'):\n",
    "    if name.startswith(KEY_QUESTION):\n",
    "        pkey[name] = {}\n",
    "        pkey[name][KEY_FUNC] = obj\n",
    "        pkey[name][KEY_RETURN] = obj(*args[name])\n",
    "#pkey"
   ]
  },
  {
   "cell_type": "code",
   "execution_count": 5,
   "id": "dbbd4efb-e2ba-4b89-84ca-6f716be202ce",
   "metadata": {},
   "outputs": [
    {
     "data": {
      "text/plain": [
       "{'user1': <module 'student_code.user1' from '/Users/rdtls/Desktop/pytest/code_tester/student_code/user1.py'>,\n",
       " 'user2': <module 'student_code.user2' from '/Users/rdtls/Desktop/pytest/code_tester/student_code/user2.py'>,\n",
       " 'user3': <module 'student_code.user3' from '/Users/rdtls/Desktop/pytest/code_tester/student_code/user3.py'>}"
      ]
     },
     "execution_count": 5,
     "metadata": {},
     "output_type": "execute_result"
    }
   ],
   "source": [
    "# Get the individual users\n",
    "students = {}\n",
    "for name, obj in inspect.getmembers(student_code, predicate=inspect.ismodule):\n",
    "    #if inspect.ismodule(obj) and not name.startswith('_'):\n",
    "    if not name.startswith(KEY_SKIP):\n",
    "        students[name] = obj\n",
    "students"
   ]
  },
  {
   "cell_type": "code",
   "execution_count": 6,
   "id": "a298f1b6-025c-4225-8eb3-290d24ada446",
   "metadata": {},
   "outputs": [],
   "source": [
    "# For output:\n",
    "grade_sheet = pd.DataFrame(index=list(students.keys()), columns=list(pkey.keys()))\n",
    "\n",
    "def user_output(q_nums: list[str]) -> pd.DataFrame:\n",
    "    columns = ['Arguments', 'Output', 'Expected']\n",
    "    return pd.DataFrame(index=q_nums, columns=columns)"
   ]
  },
  {
   "cell_type": "code",
   "execution_count": 44,
   "id": "c4e98076-0dbd-43d2-95ce-16d6fca9fe44",
   "metadata": {},
   "outputs": [],
   "source": [
    "def function_handler(func: Callable) -> Callable:\n",
    "    def wrapper(*args, **kwargs):\n",
    "        try:\n",
    "            results = func(*args, **kwargs)\n",
    "        except Exception as e:\n",
    "            results = e\n",
    "        return results\n",
    "    return wrapper"
   ]
  },
  {
   "cell_type": "code",
   "execution_count": 66,
   "id": "ea988b6f-0c59-4468-801f-daa32d09cc1f",
   "metadata": {},
   "outputs": [],
   "source": [
    "def fun_handler(timeout_secs: float = None) -> Callable:\n",
    "    class TimeoutError(Exception):\n",
    "        pass\n",
    "    def timeout(func_name: str) -> None:\n",
    "        raise TimeoutError(f'{func_name} timed out after {timeout_secs} second(s).')\n",
    "        return\n",
    "    def decorator(func: Callable) -> Callable:\n",
    "        def wrapper(*args, **kwargs):\n",
    "            if timeout_secs is not None:\n",
    "                timer = threading.Timer(timeout_secs, timeout, args=[func.__name__])\n",
    "                timer.start()\n",
    "            try:\n",
    "                results = func(*args, **kwargs)\n",
    "            except Exception as e:\n",
    "                results = e\n",
    "            finally:\n",
    "                if timeout_secs is not None:\n",
    "                    timer.cancel()\n",
    "            return results\n",
    "        return wrapper\n",
    "    return decorator"
   ]
  },
  {
   "cell_type": "code",
   "execution_count": 25,
   "id": "c5ec762b-af2b-459a-b297-abc80e8fd054",
   "metadata": {},
   "outputs": [],
   "source": [
    "# For each user:\n",
    "#   -Create their output sheet\n",
    "#   -Write to the log\n",
    "#   -Search for function, run and log results"
   ]
  },
  {
   "cell_type": "code",
   "execution_count": 33,
   "id": "cd7cf4d8-e877-495c-b433-2cfd21a88354",
   "metadata": {},
   "outputs": [],
   "source": [
    "def grade_student(code: ModuleType):\n",
    "    # Initialize their output\n",
    "    \n",
    "    qcode = {}\n",
    "    for name, obj in inspect.getmembers(code, predicate=inspect.isfunction):\n",
    "        if name.startswith(KEY_QUESTION):\n",
    "            qcode[name] = {}\n",
    "            qcode[name][KEY_FUNC] = obj\n",
    "    print(qcode)\n",
    "\n",
    "    # For each question in the key...\n",
    "    for q in pkey.keys():\n",
    "        # Check if the question exists in the student code\n",
    "        if q in qcode.keys():\n",
    "            print(f'{q} found in student code')\n",
    "            # Run the function, store the output, update the score sheet\n",
    "        else:\n",
    "            print(f'{q} not found in student code')\n",
    "    return"
   ]
  },
  {
   "cell_type": "code",
   "execution_count": 34,
   "id": "cfdc4d8a-87b5-4fe0-b1ce-fe4f4651610f",
   "metadata": {},
   "outputs": [
    {
     "name": "stdout",
     "output_type": "stream",
     "text": [
      "{'q1': {'func': <function q1 at 0x0000014DFEEC2F20>}, 'q2': {'func': <function q2 at 0x0000014DFEEC2DE0>}}\n",
      "q1 found in student code\n",
      "q2 found in student code\n",
      "q3 not found in student code\n"
     ]
    }
   ],
   "source": [
    "grade_student(students['user3'])"
   ]
  },
  {
   "cell_type": "code",
   "execution_count": 93,
   "id": "6be50e77-065a-4dfa-b7b2-8d97535a0bf7",
   "metadata": {},
   "outputs": [],
   "source": [
    "import time\n",
    "\n",
    "#@fun_handler(1)\n",
    "\n",
    "def fun():\n",
    "    #x = 1/0\n",
    "    time.sleep(20)\n",
    "    return 3"
   ]
  },
  {
   "cell_type": "code",
   "execution_count": 94,
   "id": "8b480484-1435-4f67-8bf5-65ace1d5d78c",
   "metadata": {},
   "outputs": [
    {
     "name": "stdout",
     "output_type": "stream",
     "text": [
      "d\n",
      "nd\n",
      "3\n"
     ]
    }
   ],
   "source": [
    "with concurrent.futures.ThreadPoolExecutor(max_workers=1) as executor:\n",
    "    futures = [executor.submit(fun)]\n",
    "    done, not_done = concurrent.futures.wait(futures, timeout=1)\n",
    "\n",
    "print('d')\n",
    "for fs in done:\n",
    "    print(fs.result())\n",
    "print('nd')\n",
    "for fs in not_done:\n",
    "    print(fs.result())"
   ]
  },
  {
   "cell_type": "code",
   "execution_count": 84,
   "id": "48d1abd7-7600-4772-ae7b-c4a93a40c939",
   "metadata": {},
   "outputs": [
    {
     "name": "stdout",
     "output_type": "stream",
     "text": [
      "3\n"
     ]
    }
   ],
   "source": []
  },
  {
   "cell_type": "code",
   "execution_count": 85,
   "id": "07a326cf-a389-4dd2-870c-9feb7c494fdb",
   "metadata": {},
   "outputs": [],
   "source": []
  },
  {
   "cell_type": "code",
   "execution_count": null,
   "id": "a3cfee69-83cf-4207-a561-fa1266a7831a",
   "metadata": {},
   "outputs": [],
   "source": []
  },
  {
   "cell_type": "code",
   "execution_count": null,
   "id": "8fc7bbb8-148d-4a05-8923-091fb7722c3f",
   "metadata": {},
   "outputs": [],
   "source": []
  },
  {
   "cell_type": "code",
   "execution_count": null,
   "id": "a351ceec-833e-4c99-a160-f099b3e28f6c",
   "metadata": {},
   "outputs": [],
   "source": []
  },
  {
   "cell_type": "code",
   "execution_count": null,
   "id": "379d18e8-3a54-404f-b3ec-b87084a8eb02",
   "metadata": {},
   "outputs": [],
   "source": []
  },
  {
   "cell_type": "code",
   "execution_count": 49,
   "id": "85a7048b-19d8-417a-a456-10ead96d5541",
   "metadata": {},
   "outputs": [
    {
     "data": {
      "text/plain": [
       "['user1', 'user2', 'user3']"
      ]
     },
     "execution_count": 49,
     "metadata": {},
     "output_type": "execute_result"
    }
   ],
   "source": [
    "users = [item for item in dir(user_code) if not item.startswith('_')]\n",
    "users"
   ]
  },
  {
   "cell_type": "code",
   "execution_count": 50,
   "id": "ebb38c34-fe06-478c-8b36-334f9c5d2115",
   "metadata": {},
   "outputs": [
    {
     "data": {
      "text/plain": [
       "['q1', 'q2']"
      ]
     },
     "execution_count": 50,
     "metadata": {},
     "output_type": "execute_result"
    }
   ],
   "source": [
    "questions = [item for item in dir(key) if item.startswith('q')]\n",
    "questions"
   ]
  },
  {
   "cell_type": "code",
   "execution_count": null,
   "id": "b9af8e5b-a03a-49be-aec1-88768c70ab2b",
   "metadata": {},
   "outputs": [],
   "source": []
  },
  {
   "cell_type": "code",
   "execution_count": null,
   "id": "6e87bd32-c559-453a-af82-023c23453a99",
   "metadata": {},
   "outputs": [],
   "source": []
  },
  {
   "cell_type": "code",
   "execution_count": 39,
   "id": "c5224198-3426-47e7-8707-edb000a2c430",
   "metadata": {},
   "outputs": [],
   "source": []
  },
  {
   "cell_type": "code",
   "execution_count": null,
   "id": "5c5dc3a4-141b-43c3-a39d-262d25a98307",
   "metadata": {},
   "outputs": [],
   "source": []
  },
  {
   "cell_type": "code",
   "execution_count": 46,
   "id": "0f4561a7-1558-4524-8f9b-3d90e44f845b",
   "metadata": {},
   "outputs": [],
   "source": []
  },
  {
   "cell_type": "code",
   "execution_count": 47,
   "id": "b0880387-ceab-465d-9ab2-909467c318dd",
   "metadata": {},
   "outputs": [
    {
     "name": "stdout",
     "output_type": "stream",
     "text": [
      "q1 <function q1 at 0x0000021DFA6F1D00>\n",
      "q2 <function q2 at 0x0000021DFA6F2020>\n"
     ]
    }
   ],
   "source": [
    "for key, value in pkey.items():\n",
    "    print(key, value)"
   ]
  },
  {
   "cell_type": "code",
   "execution_count": null,
   "id": "de42a231-526d-4d6c-b927-4ea5e3d974eb",
   "metadata": {},
   "outputs": [],
   "source": []
  },
  {
   "cell_type": "code",
   "execution_count": null,
   "id": "73d53c9b-ddfa-4363-9df3-697f8cb9f9ad",
   "metadata": {},
   "outputs": [],
   "source": []
  },
  {
   "cell_type": "code",
   "execution_count": null,
   "id": "f787505a-b03e-4032-9e09-a3c74d3cd7a8",
   "metadata": {},
   "outputs": [],
   "source": []
  },
  {
   "cell_type": "code",
   "execution_count": null,
   "id": "93b385bf-edaf-4a8b-81fb-c11ccc11ac5a",
   "metadata": {},
   "outputs": [],
   "source": []
  },
  {
   "cell_type": "code",
   "execution_count": null,
   "id": "1b4b99b9-b50e-47e5-9d03-3a8cfb7f058c",
   "metadata": {},
   "outputs": [],
   "source": []
  },
  {
   "cell_type": "markdown",
   "id": "59ebc6be-c5fa-4c4e-b4a2-0e3edc46bbeb",
   "metadata": {},
   "source": [
    "---"
   ]
  },
  {
   "cell_type": "code",
   "execution_count": 14,
   "id": "c6e69442-0209-4dfb-90a7-e4f44c76984f",
   "metadata": {},
   "outputs": [],
   "source": [
    "import ast\n",
    "with open('key.py', 'r') as f:\n",
    "    node = ast.parse(f.read())\n",
    "\n",
    "fun = node.body[1]"
   ]
  },
  {
   "cell_type": "code",
   "execution_count": 15,
   "id": "92318bbc-42db-4410-9f7e-12f21e1dd277",
   "metadata": {},
   "outputs": [
    {
     "data": {
      "text/plain": [
       "['__annotations__',\n",
       " '__class__',\n",
       " '__delattr__',\n",
       " '__dict__',\n",
       " '__dir__',\n",
       " '__doc__',\n",
       " '__eq__',\n",
       " '__format__',\n",
       " '__ge__',\n",
       " '__getattribute__',\n",
       " '__getstate__',\n",
       " '__gt__',\n",
       " '__hash__',\n",
       " '__init__',\n",
       " '__init_subclass__',\n",
       " '__le__',\n",
       " '__lt__',\n",
       " '__match_args__',\n",
       " '__module__',\n",
       " '__ne__',\n",
       " '__new__',\n",
       " '__reduce__',\n",
       " '__reduce_ex__',\n",
       " '__repr__',\n",
       " '__setattr__',\n",
       " '__sizeof__',\n",
       " '__str__',\n",
       " '__subclasshook__',\n",
       " '__weakref__',\n",
       " '_attributes',\n",
       " '_field_types',\n",
       " '_fields',\n",
       " 'args',\n",
       " 'body',\n",
       " 'col_offset',\n",
       " 'decorator_list',\n",
       " 'end_col_offset',\n",
       " 'end_lineno',\n",
       " 'lineno',\n",
       " 'name',\n",
       " 'returns',\n",
       " 'type_comment',\n",
       " 'type_params']"
      ]
     },
     "execution_count": 15,
     "metadata": {},
     "output_type": "execute_result"
    }
   ],
   "source": [
    "dir(fun)"
   ]
  },
  {
   "cell_type": "code",
   "execution_count": null,
   "id": "ec029e43-4de1-4c95-aeae-d039834b0ba0",
   "metadata": {},
   "outputs": [],
   "source": []
  },
  {
   "cell_type": "code",
   "execution_count": null,
   "id": "92dc7ea8-e9cd-4265-a724-b617386b6f0a",
   "metadata": {},
   "outputs": [],
   "source": []
  }
 ],
 "metadata": {
  "kernelspec": {
   "display_name": "Python 3 (ipykernel)",
   "language": "python",
   "name": "python3"
  },
  "language_info": {
   "codemirror_mode": {
    "name": "ipython",
    "version": 3
   },
   "file_extension": ".py",
   "mimetype": "text/x-python",
   "name": "python",
   "nbconvert_exporter": "python",
   "pygments_lexer": "ipython3",
   "version": "3.13.1"
  }
 },
 "nbformat": 4,
 "nbformat_minor": 5
}
