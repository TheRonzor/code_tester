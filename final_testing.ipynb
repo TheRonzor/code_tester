{
 "cells": [
  {
   "cell_type": "code",
   "execution_count": 1,
   "id": "e3f1ac51-9d2a-4f41-b7a1-ba42ab4d373b",
   "metadata": {},
   "outputs": [
    {
     "name": "stdout",
     "output_type": "stream",
     "text": [
      "Error loading user8:\n",
      " '(' was never closed (user8.py, line 21)\n",
      "2025-02-04 19:40:32.562002::Process initialized\n",
      "2025-02-04 19:40:32.563169::Questions in key: 4\n",
      "2025-02-04 19:40:32.564144::Submissions found: 7\n",
      "2025-02-04 19:40:32.565379::check_students started\n",
      "2025-02-04 19:40:32.571850::Started checking code for: user1\n",
      "2025-02-04 19:40:32.574290::q1 for user1 found!\n",
      "2025-02-04 19:40:32.576130::q2 for user1 found!\n",
      "2025-02-04 19:40:32.577985::q3 for user1 found!\n",
      "2025-02-04 19:40:32.579839::q4 for user1 found!\n",
      "2025-02-04 19:40:32.583757::Finished checking code for: user1\n",
      "2025-02-04 19:40:32.586621::Started checking code for: user2\n",
      "2025-02-04 19:40:32.588656::q1 for user2 found!\n",
      "2025-02-04 19:40:32.590148::q2 for user2 found!\n",
      "2025-02-04 19:40:32.591961::q3 for user2 found!\n",
      "2025-02-04 19:40:32.593578::q4 for user2 found!\n",
      "2025-02-04 19:40:32.596714::Finished checking code for: user2\n",
      "2025-02-04 19:40:32.597673::Started checking code for: user3\n",
      "2025-02-04 19:40:32.599696::q1 for user3 found!\n",
      "2025-02-04 19:40:32.603307::q2 for user3 found!\n",
      "2025-02-04 19:40:32.606072::q3 for user3 was NOT found!\n",
      "2025-02-04 19:40:32.607371::q4 for user3 found!\n",
      "2025-02-04 19:40:32.610308::Finished checking code for: user3\n",
      "2025-02-04 19:40:32.611482::Started checking code for: user4\n",
      "2025-02-04 19:40:32.613596::q1 for user4 found!\n",
      "2025-02-04 19:40:32.615394::q2 for user4 found!\n",
      "2025-02-04 19:40:32.616693::q3 for user4 found!\n",
      "2025-02-04 19:40:32.618310::q4 for user4 found!\n",
      "2025-02-04 19:40:32.624824::Finished checking code for: user4\n",
      "2025-02-04 19:40:32.625640::Started checking code for: user5\n",
      "2025-02-04 19:40:32.627653::q1 for user5 found!\n",
      "2025-02-04 19:40:32.629041::q2 for user5 found!\n",
      "2025-02-04 19:40:32.630737::q3 for user5 found!\n",
      "Interrupt sent when q3 ran more than 1 secs.\n",
      "2025-02-04 19:40:33.659589::q3 for user5 triggered an interrupt.\n",
      "2025-02-04 19:40:33.661528::q4 for user5 found!\n",
      "2025-02-04 19:40:33.664498::Finished checking code for: user5\n",
      "2025-02-04 19:40:33.666241::Started checking code for: user6\n",
      "2025-02-04 19:40:33.669399::q1 for user6 found!\n",
      "2025-02-04 19:40:33.670995::q2 for user6 found!\n",
      "2025-02-04 19:40:33.674262::q3 for user6 found!\n",
      "Interrupt sent when q3 ran more than 1 secs.\n",
      "2025-02-04 19:40:34.712123::q3 for user6 triggered an interrupt.\n",
      "2025-02-04 19:40:34.713609::q4 for user6 found!\n",
      "2025-02-04 19:40:34.717741::Finished checking code for: user6\n",
      "2025-02-04 19:40:34.721726::Started checking code for: user7\n",
      "2025-02-04 19:40:34.725456::q1 for user7 found!\n",
      "2025-02-04 19:40:34.727108::q2 for user7 found!\n",
      "2025-02-04 19:40:34.728770::q3 for user7 found!\n",
      "Interrupt sent when q3 ran more than 1 secs.\n",
      "2025-02-04 19:40:35.749914::q3 for user7 triggered an interrupt.\n",
      "2025-02-04 19:40:35.751263::q4 for user7 found!\n",
      "2025-02-04 19:40:35.755792::Finished checking code for: user7\n",
      "2025-02-04 19:40:35.759280::check_students finished\n"
     ]
    }
   ],
   "source": [
    "from src import professor\n",
    "from importlib import reload\n",
    "reload(professor)\n",
    "\n",
    "prof = professor.Professor(assignment_name='testing',\n",
    "                          print_logs=True # False to suppress output below. The log still written to ./logs/ either way\n",
    "                          )\n",
    "prof.check_students()"
   ]
  },
  {
   "cell_type": "code",
   "execution_count": null,
   "id": "237325be-1a0c-4db5-8655-eec7dc9aa846",
   "metadata": {},
   "outputs": [],
   "source": []
  }
 ],
 "metadata": {
  "kernelspec": {
   "display_name": "Python 3 (ipykernel)",
   "language": "python",
   "name": "python3"
  },
  "language_info": {
   "codemirror_mode": {
    "name": "ipython",
    "version": 3
   },
   "file_extension": ".py",
   "mimetype": "text/x-python",
   "name": "python",
   "nbconvert_exporter": "python",
   "pygments_lexer": "ipython3",
   "version": "3.13.1"
  }
 },
 "nbformat": 4,
 "nbformat_minor": 5
}
