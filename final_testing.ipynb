{
 "cells": [
  {
   "cell_type": "code",
   "execution_count": 72,
   "id": "e3f1ac51-9d2a-4f41-b7a1-ba42ab4d373b",
   "metadata": {},
   "outputs": [
    {
     "name": "stdout",
     "output_type": "stream",
     "text": [
      "2025-02-04 13:58:52.516056::Process initialized\n",
      "2025-02-04 13:58:52.517182::Questions in key: 3\n",
      "2025-02-04 13:58:52.518089::Submissions found: 3\n",
      "2025-02-04 13:58:52.518947::check_students started\n",
      "2025-02-04 13:58:52.520391::Started checking code for: user1\n",
      "2025-02-04 13:58:52.522064::q1 for user1 found!\n",
      "2025-02-04 13:58:52.523708::q2 for user1 found!\n",
      "2025-02-04 13:58:52.524794::q3 for user1 found!\n",
      "2025-02-04 13:58:52.527520::Finished checking code for: user1\n",
      "2025-02-04 13:58:52.528380::Started checking code for: user2\n",
      "2025-02-04 13:58:52.529966::q1 for user2 found!\n",
      "2025-02-04 13:58:52.584624::q2 for user2 found!\n",
      "2025-02-04 13:58:52.585994::q3 for user2 found!\n",
      "2025-02-04 13:58:52.588305::Finished checking code for: user2\n",
      "2025-02-04 13:58:52.588938::Started checking code for: user3\n",
      "2025-02-04 13:58:52.590592::q1 for user3 found!\n",
      "2025-02-04 13:58:52.592855::q2 for user3 found!\n",
      "2025-02-04 13:58:52.594969::q3 for user3 was NOT found!\n",
      "2025-02-04 13:58:52.598711::Finished checking code for: user3\n",
      "2025-02-04 13:58:52.600915::check_students finished\n"
     ]
    }
   ],
   "source": [
    "from src import professor\n",
    "from importlib import reload\n",
    "reload(professor)\n",
    "\n",
    "prof = professor.Professor(assignment_name='testing')\n",
    "prof.check_students()"
   ]
  },
  {
   "cell_type": "code",
   "execution_count": null,
   "id": "237325be-1a0c-4db5-8655-eec7dc9aa846",
   "metadata": {},
   "outputs": [],
   "source": []
  }
 ],
 "metadata": {
  "kernelspec": {
   "display_name": "Python 3 (ipykernel)",
   "language": "python",
   "name": "python3"
  },
  "language_info": {
   "codemirror_mode": {
    "name": "ipython",
    "version": 3
   },
   "file_extension": ".py",
   "mimetype": "text/x-python",
   "name": "python",
   "nbconvert_exporter": "python",
   "pygments_lexer": "ipython3",
   "version": "3.13.0"
  }
 },
 "nbformat": 4,
 "nbformat_minor": 5
}
