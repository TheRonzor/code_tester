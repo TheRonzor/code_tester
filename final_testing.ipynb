{
 "cells": [
  {
   "cell_type": "code",
   "execution_count": 64,
   "id": "e3f1ac51-9d2a-4f41-b7a1-ba42ab4d373b",
   "metadata": {},
   "outputs": [
    {
     "name": "stdout",
     "output_type": "stream",
     "text": [
      "2025-02-04 13:39:23.108008::Process initialized\n",
      "2025-02-04 13:39:23.109205::Questions in key: 3\n",
      "2025-02-04 13:39:23.110259::Submissions found: 3\n",
      "2025-02-04 13:39:23.111380::check_students started\n",
      "2025-02-04 13:39:23.112566::Started checking code for: user1\n",
      "2025-02-04 13:39:23.114594::q1 for user1 found!\n",
      "2025-02-04 13:39:23.115903::q2 for user1 found!\n",
      "2025-02-04 13:39:23.117119::q3 for user1 found!\n",
      "2025-02-04 13:39:23.120858::Finished checking code for: user1\n",
      "2025-02-04 13:39:23.122501::Started checking code for: user2\n",
      "2025-02-04 13:39:23.124940::q1 for user2 found!\n",
      "2025-02-04 13:39:23.262918::q2 for user2 found!\n",
      "2025-02-04 13:39:23.267326::q3 for user2 found!\n",
      "2025-02-04 13:39:23.273977::Finished checking code for: user2\n",
      "2025-02-04 13:39:23.276228::Started checking code for: user3\n",
      "2025-02-04 13:39:23.278987::q1 for user3 found!\n",
      "2025-02-04 13:39:23.280299::q2 for user3 found!\n",
      "2025-02-04 13:39:23.281411::q3 for user3 was NOT found!\n",
      "2025-02-04 13:39:23.283732::Finished checking code for: user3\n",
      "2025-02-04 13:39:23.284736::check_students finished\n"
     ]
    }
   ],
   "source": [
    "from src import professor\n",
    "from importlib import reload\n",
    "reload(professor)\n",
    "\n",
    "prof = professor.Professor(assignment_name='testing')\n",
    "prof.check_students()"
   ]
  },
  {
   "cell_type": "code",
   "execution_count": 62,
   "id": "9039cf83-b2e5-4996-993b-a3a9863b91ac",
   "metadata": {},
   "outputs": [],
   "source": []
  },
  {
   "cell_type": "code",
   "execution_count": null,
   "id": "7fe480d7-94d6-45c8-bb28-465705f71153",
   "metadata": {},
   "outputs": [],
   "source": []
  }
 ],
 "metadata": {
  "kernelspec": {
   "display_name": "Python 3 (ipykernel)",
   "language": "python",
   "name": "python3"
  },
  "language_info": {
   "codemirror_mode": {
    "name": "ipython",
    "version": 3
   },
   "file_extension": ".py",
   "mimetype": "text/x-python",
   "name": "python",
   "nbconvert_exporter": "python",
   "pygments_lexer": "ipython3",
   "version": "3.13.0"
  }
 },
 "nbformat": 4,
 "nbformat_minor": 5
}
