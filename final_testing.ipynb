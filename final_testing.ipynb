{
 "cells": [
  {
   "cell_type": "code",
   "execution_count": 1,
   "id": "e3f1ac51-9d2a-4f41-b7a1-ba42ab4d373b",
   "metadata": {},
   "outputs": [
    {
     "name": "stdout",
     "output_type": "stream",
     "text": [
      "Error loading user8:\n",
      " '(' was never closed (user8.py, line 21)\n",
      "2025-02-10 15:32:43.330023::Process initialized\n",
      "2025-02-10 15:32:43.330945::Questions in key: 4\n",
      "2025-02-10 15:32:43.331805::Submissions found: 8\n",
      "2025-02-10 15:32:43.332897::check_students started\n",
      "2025-02-10 15:32:43.335385::Started checking code for: user1\n",
      "2025-02-10 15:32:43.337051::q1 for user1 found!\n",
      "2025-02-10 15:32:43.338222::q2 for user1 found!\n",
      "2025-02-10 15:32:43.339310::q3 for user1 found!\n",
      "2025-02-10 15:32:43.340264::q4 for user1 found!\n",
      "2025-02-10 15:32:43.344205::Finished checking code for: user1\n",
      "2025-02-10 15:32:43.345074::Started checking code for: user2\n",
      "2025-02-10 15:32:43.414516::q1 for user2 found!\n",
      "2025-02-10 15:32:43.418034::q2 for user2 found!\n",
      "2025-02-10 15:32:43.421938::q3 for user2 found!\n",
      "2025-02-10 15:32:43.424721::q4 for user2 found!\n",
      "2025-02-10 15:32:43.427936::Finished checking code for: user2\n",
      "2025-02-10 15:32:43.428577::Started checking code for: user3\n",
      "2025-02-10 15:32:43.430082::q1 for user3 found!\n",
      "2025-02-10 15:32:43.431560::q2 for user3 found!\n",
      "2025-02-10 15:32:43.432751::q3 for user3 was NOT found!\n",
      "2025-02-10 15:32:43.434097::q4 for user3 found!\n",
      "2025-02-10 15:32:43.437212::Finished checking code for: user3\n",
      "2025-02-10 15:32:43.437966::Started checking code for: user4\n",
      "2025-02-10 15:32:43.439304::q1 for user4 found!\n",
      "2025-02-10 15:32:43.440296::q2 for user4 found!\n",
      "2025-02-10 15:32:43.441271::q3 for user4 found!\n",
      "2025-02-10 15:32:43.442367::q4 for user4 found!\n",
      "2025-02-10 15:32:43.444669::Finished checking code for: user4\n",
      "2025-02-10 15:32:43.445346::Started checking code for: user5\n",
      "2025-02-10 15:32:43.446781::q1 for user5 found!\n",
      "2025-02-10 15:32:43.448126::q2 for user5 found!\n",
      "2025-02-10 15:32:43.449243::q3 for user5 found!\n",
      "Interrupt sent when q3 ran more than 9.999999999999999e-06 secs.\n",
      "2025-02-10 15:32:43.550025::q3 for user5 triggered an interrupt.\n",
      "2025-02-10 15:32:43.551456::q4 for user5 found!\n",
      "2025-02-10 15:32:43.553718::Finished checking code for: user5\n",
      "2025-02-10 15:32:43.554319::Started checking code for: user6\n",
      "2025-02-10 15:32:43.555602::q1 for user6 found!\n",
      "2025-02-10 15:32:43.556596::q2 for user6 found!\n",
      "2025-02-10 15:32:43.557589::q3 for user6 found!\n",
      "Interrupt sent when q3 ran more than 9.999999999999999e-06 secs.\n",
      "2025-02-10 15:32:43.736266::q3 for user6 triggered an interrupt.\n",
      "2025-02-10 15:32:43.737378::q4 for user6 found!\n",
      "2025-02-10 15:32:43.739727::Finished checking code for: user6\n",
      "2025-02-10 15:32:43.740491::Started checking code for: user7\n",
      "2025-02-10 15:32:43.741897::q1 for user7 found!\n",
      "2025-02-10 15:32:43.743116::q2 for user7 found!\n",
      "2025-02-10 15:32:43.744274::q3 for user7 found!\n",
      "Interrupt sent when q3 ran more than 9.999999999999999e-06 secs.\n",
      "2025-02-10 15:32:43.877308::q3 for user7 triggered an interrupt.\n",
      "2025-02-10 15:32:43.878975::q4 for user7 found!\n",
      "2025-02-10 15:32:43.883139::Finished checking code for: user7\n",
      "2025-02-10 15:32:43.884081::Started checking code for: user9\n",
      "2025-02-10 15:32:43.886889::q1 for user9 found!\n",
      "2025-02-10 15:32:43.889045::q2 for user9 found!\n",
      "2025-02-10 15:32:43.890762::q3 for user9 found!\n",
      "Interrupt sent when q3 ran more than 9.999999999999999e-06 secs.\n",
      "2025-02-10 15:32:44.002236::q3 for user9 triggered an interrupt.\n",
      "2025-02-10 15:32:44.003196::q4 for user9 found!\n",
      "Interrupt sent when q4 ran more than 3e-05 secs.\n",
      "2025-02-10 15:32:46.004817::q4 for user9 triggered an interrupt.\n",
      "2025-02-10 15:32:46.008012::Finished checking code for: user9\n",
      "2025-02-10 15:32:46.010070::check_students finished\n"
     ]
    }
   ],
   "source": [
    "from src import professor\n",
    "from importlib import reload\n",
    "reload(professor)\n",
    "\n",
    "prof = professor.Professor(assignment_name='testing',\n",
    "                          print_logs=True # False to suppress output below. The log still written to ./logs/ either way\n",
    "                          )\n",
    "prof.check_students()"
   ]
  },
  {
   "cell_type": "code",
   "execution_count": 2,
   "id": "237325be-1a0c-4db5-8655-eec7dc9aa846",
   "metadata": {},
   "outputs": [],
   "source": [
    "# prof.results['q1']"
   ]
  },
  {
   "cell_type": "code",
   "execution_count": null,
   "id": "730c57b2-9efc-4fe2-ac17-82e7929621e1",
   "metadata": {},
   "outputs": [],
   "source": []
  },
  {
   "cell_type": "code",
   "execution_count": null,
   "id": "d24ab72b-45cd-4f2b-ad38-e89916d79e2d",
   "metadata": {},
   "outputs": [],
   "source": []
  }
 ],
 "metadata": {
  "kernelspec": {
   "display_name": "Python 3 (ipykernel)",
   "language": "python",
   "name": "python3"
  },
  "language_info": {
   "codemirror_mode": {
    "name": "ipython",
    "version": 3
   },
   "file_extension": ".py",
   "mimetype": "text/x-python",
   "name": "python",
   "nbconvert_exporter": "python",
   "pygments_lexer": "ipython3",
   "version": "3.13.0"
  }
 },
 "nbformat": 4,
 "nbformat_minor": 5
}
