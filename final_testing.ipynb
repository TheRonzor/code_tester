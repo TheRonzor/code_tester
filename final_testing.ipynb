{
 "cells": [
  {
   "cell_type": "code",
   "execution_count": 1,
   "id": "e3f1ac51-9d2a-4f41-b7a1-ba42ab4d373b",
   "metadata": {},
   "outputs": [],
   "source": [
    "import src.professor\n",
    "prof = src.professor.Professor()"
   ]
  },
  {
   "cell_type": "code",
   "execution_count": 2,
   "id": "3b91b78b-b45f-419d-93a0-1b9b4253caf0",
   "metadata": {},
   "outputs": [
    {
     "data": {
      "text/plain": [
       "42"
      ]
     },
     "execution_count": 2,
     "metadata": {},
     "output_type": "execute_result"
    }
   ],
   "source": [
    "prof.results['q3'].result"
   ]
  },
  {
   "cell_type": "code",
   "execution_count": 3,
   "id": "e1dd3827-fe5c-4e55-a38b-b792d7fd8cc3",
   "metadata": {},
   "outputs": [
    {
     "data": {
      "text/plain": [
       "{'q1': 5, 'q2': 5, 'q3': 5}"
      ]
     },
     "execution_count": 3,
     "metadata": {},
     "output_type": "execute_result"
    }
   ],
   "source": [
    "prof.timeouts"
   ]
  },
  {
   "cell_type": "code",
   "execution_count": 4,
   "id": "e1e50916-4bf8-459c-9144-1db49acad910",
   "metadata": {},
   "outputs": [
    {
     "data": {
      "text/plain": [
       "3"
      ]
     },
     "execution_count": 4,
     "metadata": {},
     "output_type": "execute_result"
    }
   ],
   "source": [
    "prof.results['q1'].result"
   ]
  },
  {
   "cell_type": "code",
   "execution_count": 5,
   "id": "4fc70b12-acdb-45f3-9a85-2516d4c627fc",
   "metadata": {},
   "outputs": [
    {
     "data": {
      "text/plain": [
       "()"
      ]
     },
     "execution_count": 5,
     "metadata": {},
     "output_type": "execute_result"
    }
   ],
   "source": [
    "prof.results['q1'].args"
   ]
  },
  {
   "cell_type": "code",
   "execution_count": null,
   "id": "fc0eb282-0591-4cb0-afcb-4e84784d258a",
   "metadata": {},
   "outputs": [],
   "source": []
  }
 ],
 "metadata": {
  "kernelspec": {
   "display_name": "Python 3 (ipykernel)",
   "language": "python",
   "name": "python3"
  },
  "language_info": {
   "codemirror_mode": {
    "name": "ipython",
    "version": 3
   },
   "file_extension": ".py",
   "mimetype": "text/x-python",
   "name": "python",
   "nbconvert_exporter": "python",
   "pygments_lexer": "ipython3",
   "version": "3.13.0"
  }
 },
 "nbformat": 4,
 "nbformat_minor": 5
}
